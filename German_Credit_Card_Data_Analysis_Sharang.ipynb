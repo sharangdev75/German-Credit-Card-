{
 "cells": [
  {
   "cell_type": "markdown",
   "metadata": {},
   "source": [
    "# 1) Importing Libraries"
   ]
  },
  {
   "cell_type": "code",
   "execution_count": 758,
   "metadata": {},
   "outputs": [],
   "source": [
    "# importing padas to read the data\n",
    "import pandas as pd\n",
    "import numpy as np\n",
    "## All the Scikit learn libraries that will be used \n",
    "from sklearn.linear_model import LogisticRegression\n",
    "from sklearn.ensemble import GradientBoostingClassifier \n",
    "from sklearn.neighbors import KNeighborsClassifier\n",
    "from sklearn.ensemble import RandomForestClassifier\n",
    "from sklearn.model_selection import train_test_split\n",
    "from sklearn.model_selection import GridSearchCV\n",
    "from sklearn.preprocessing import MinMaxScaler\n",
    "from sklearn.model_selection import cross_val_score\n",
    "# calculate accuracy measures and confusion matrix\n",
    "from sklearn import metrics\n",
    "from sklearn.metrics import confusion_matrix\n",
    "#importing seaborn for statistical plots\n",
    "import seaborn as sns\n",
    "# importing ploting libraries\n",
    "import matplotlib.pyplot as plt  \n",
    "%matplotlib inline\n",
    "# for preprocessing the data\n",
    "from sklearn.preprocessing import LabelEncoder\n",
    "# Over Sampling\n",
    "import imblearn\n",
    "from imblearn.over_sampling import SMOTE\n",
    "# Suppress warnings\n",
    "import warnings\n",
    "warnings.filterwarnings(\"ignore\")"
   ]
  },
  {
   "cell_type": "markdown",
   "metadata": {},
   "source": [
    "# 2) Reading the Data and Storing it in the Variable named as Credit_df"
   ]
  },
  {
   "cell_type": "code",
   "execution_count": 759,
   "metadata": {},
   "outputs": [],
   "source": [
    "credit_df = pd.read_csv(\"C:\\\\Users\\\\Sharang\\\\Desktop\\\\credit.csv\")"
   ]
  },
  {
   "cell_type": "markdown",
   "metadata": {},
   "source": [
    "## 2.1) Creating the copy of the main Dataframe"
   ]
  },
  {
   "cell_type": "code",
   "execution_count": 760,
   "metadata": {},
   "outputs": [],
   "source": [
    "credit_main = credit_df.copy()"
   ]
  },
  {
   "cell_type": "markdown",
   "metadata": {},
   "source": [
    "## 2.2) Checking the first 5 rows of the data"
   ]
  },
  {
   "cell_type": "code",
   "execution_count": 761,
   "metadata": {},
   "outputs": [
    {
     "data": {
      "text/html": [
       "<div>\n",
       "<style scoped>\n",
       "    .dataframe tbody tr th:only-of-type {\n",
       "        vertical-align: middle;\n",
       "    }\n",
       "\n",
       "    .dataframe tbody tr th {\n",
       "        vertical-align: top;\n",
       "    }\n",
       "\n",
       "    .dataframe thead th {\n",
       "        text-align: right;\n",
       "    }\n",
       "</style>\n",
       "<table border=\"1\" class=\"dataframe\">\n",
       "  <thead>\n",
       "    <tr style=\"text-align: right;\">\n",
       "      <th></th>\n",
       "      <th>checking_balance</th>\n",
       "      <th>months_loan_duration</th>\n",
       "      <th>credit_history</th>\n",
       "      <th>purpose</th>\n",
       "      <th>amount</th>\n",
       "      <th>savings_balance</th>\n",
       "      <th>employment_duration</th>\n",
       "      <th>percent_of_income</th>\n",
       "      <th>years_at_residence</th>\n",
       "      <th>age</th>\n",
       "      <th>other_credit</th>\n",
       "      <th>housing</th>\n",
       "      <th>existing_loans_count</th>\n",
       "      <th>job</th>\n",
       "      <th>dependents</th>\n",
       "      <th>phone</th>\n",
       "      <th>default</th>\n",
       "    </tr>\n",
       "  </thead>\n",
       "  <tbody>\n",
       "    <tr>\n",
       "      <td>0</td>\n",
       "      <td>&lt; 0 DM</td>\n",
       "      <td>6</td>\n",
       "      <td>critical</td>\n",
       "      <td>furniture/appliances</td>\n",
       "      <td>1169</td>\n",
       "      <td>unknown</td>\n",
       "      <td>&gt; 7 years</td>\n",
       "      <td>4</td>\n",
       "      <td>4</td>\n",
       "      <td>67</td>\n",
       "      <td>none</td>\n",
       "      <td>own</td>\n",
       "      <td>2</td>\n",
       "      <td>skilled</td>\n",
       "      <td>1</td>\n",
       "      <td>yes</td>\n",
       "      <td>no</td>\n",
       "    </tr>\n",
       "    <tr>\n",
       "      <td>1</td>\n",
       "      <td>1 - 200 DM</td>\n",
       "      <td>48</td>\n",
       "      <td>good</td>\n",
       "      <td>furniture/appliances</td>\n",
       "      <td>5951</td>\n",
       "      <td>&lt; 100 DM</td>\n",
       "      <td>1 - 4 years</td>\n",
       "      <td>2</td>\n",
       "      <td>2</td>\n",
       "      <td>22</td>\n",
       "      <td>none</td>\n",
       "      <td>own</td>\n",
       "      <td>1</td>\n",
       "      <td>skilled</td>\n",
       "      <td>1</td>\n",
       "      <td>no</td>\n",
       "      <td>yes</td>\n",
       "    </tr>\n",
       "    <tr>\n",
       "      <td>2</td>\n",
       "      <td>unknown</td>\n",
       "      <td>12</td>\n",
       "      <td>critical</td>\n",
       "      <td>education</td>\n",
       "      <td>2096</td>\n",
       "      <td>&lt; 100 DM</td>\n",
       "      <td>4 - 7 years</td>\n",
       "      <td>2</td>\n",
       "      <td>3</td>\n",
       "      <td>49</td>\n",
       "      <td>none</td>\n",
       "      <td>own</td>\n",
       "      <td>1</td>\n",
       "      <td>unskilled</td>\n",
       "      <td>2</td>\n",
       "      <td>no</td>\n",
       "      <td>no</td>\n",
       "    </tr>\n",
       "    <tr>\n",
       "      <td>3</td>\n",
       "      <td>&lt; 0 DM</td>\n",
       "      <td>42</td>\n",
       "      <td>good</td>\n",
       "      <td>furniture/appliances</td>\n",
       "      <td>7882</td>\n",
       "      <td>&lt; 100 DM</td>\n",
       "      <td>4 - 7 years</td>\n",
       "      <td>2</td>\n",
       "      <td>4</td>\n",
       "      <td>45</td>\n",
       "      <td>none</td>\n",
       "      <td>other</td>\n",
       "      <td>1</td>\n",
       "      <td>skilled</td>\n",
       "      <td>2</td>\n",
       "      <td>no</td>\n",
       "      <td>no</td>\n",
       "    </tr>\n",
       "    <tr>\n",
       "      <td>4</td>\n",
       "      <td>&lt; 0 DM</td>\n",
       "      <td>24</td>\n",
       "      <td>poor</td>\n",
       "      <td>car</td>\n",
       "      <td>4870</td>\n",
       "      <td>&lt; 100 DM</td>\n",
       "      <td>1 - 4 years</td>\n",
       "      <td>3</td>\n",
       "      <td>4</td>\n",
       "      <td>53</td>\n",
       "      <td>none</td>\n",
       "      <td>other</td>\n",
       "      <td>2</td>\n",
       "      <td>skilled</td>\n",
       "      <td>2</td>\n",
       "      <td>no</td>\n",
       "      <td>yes</td>\n",
       "    </tr>\n",
       "  </tbody>\n",
       "</table>\n",
       "</div>"
      ],
      "text/plain": [
       "  checking_balance  months_loan_duration credit_history               purpose  \\\n",
       "0           < 0 DM                     6       critical  furniture/appliances   \n",
       "1       1 - 200 DM                    48           good  furniture/appliances   \n",
       "2          unknown                    12       critical             education   \n",
       "3           < 0 DM                    42           good  furniture/appliances   \n",
       "4           < 0 DM                    24           poor                   car   \n",
       "\n",
       "   amount savings_balance employment_duration  percent_of_income  \\\n",
       "0    1169         unknown           > 7 years                  4   \n",
       "1    5951        < 100 DM         1 - 4 years                  2   \n",
       "2    2096        < 100 DM         4 - 7 years                  2   \n",
       "3    7882        < 100 DM         4 - 7 years                  2   \n",
       "4    4870        < 100 DM         1 - 4 years                  3   \n",
       "\n",
       "   years_at_residence  age other_credit housing  existing_loans_count  \\\n",
       "0                   4   67         none     own                     2   \n",
       "1                   2   22         none     own                     1   \n",
       "2                   3   49         none     own                     1   \n",
       "3                   4   45         none   other                     1   \n",
       "4                   4   53         none   other                     2   \n",
       "\n",
       "         job  dependents phone default  \n",
       "0    skilled           1   yes      no  \n",
       "1    skilled           1    no     yes  \n",
       "2  unskilled           2    no      no  \n",
       "3    skilled           2    no      no  \n",
       "4    skilled           2    no     yes  "
      ]
     },
     "execution_count": 761,
     "metadata": {},
     "output_type": "execute_result"
    }
   ],
   "source": [
    "credit_df.head(5)"
   ]
  },
  {
   "cell_type": "markdown",
   "metadata": {},
   "source": [
    "## 2.3) Checking the informatiation of the Data "
   ]
  },
  {
   "cell_type": "code",
   "execution_count": 762,
   "metadata": {},
   "outputs": [
    {
     "name": "stdout",
     "output_type": "stream",
     "text": [
      "<class 'pandas.core.frame.DataFrame'>\n",
      "RangeIndex: 1000 entries, 0 to 999\n",
      "Data columns (total 17 columns):\n",
      "checking_balance        1000 non-null object\n",
      "months_loan_duration    1000 non-null int64\n",
      "credit_history          1000 non-null object\n",
      "purpose                 1000 non-null object\n",
      "amount                  1000 non-null int64\n",
      "savings_balance         1000 non-null object\n",
      "employment_duration     1000 non-null object\n",
      "percent_of_income       1000 non-null int64\n",
      "years_at_residence      1000 non-null int64\n",
      "age                     1000 non-null int64\n",
      "other_credit            1000 non-null object\n",
      "housing                 1000 non-null object\n",
      "existing_loans_count    1000 non-null int64\n",
      "job                     1000 non-null object\n",
      "dependents              1000 non-null int64\n",
      "phone                   1000 non-null object\n",
      "default                 1000 non-null object\n",
      "dtypes: int64(7), object(10)\n",
      "memory usage: 132.9+ KB\n"
     ]
    }
   ],
   "source": [
    "credit_df.info()"
   ]
  },
  {
   "cell_type": "code",
   "execution_count": 763,
   "metadata": {},
   "outputs": [
    {
     "data": {
      "text/plain": [
       "Index(['checking_balance', 'months_loan_duration', 'credit_history', 'purpose',\n",
       "       'amount', 'savings_balance', 'employment_duration', 'percent_of_income',\n",
       "       'years_at_residence', 'age', 'other_credit', 'housing',\n",
       "       'existing_loans_count', 'job', 'dependents', 'phone', 'default'],\n",
       "      dtype='object')"
      ]
     },
     "execution_count": 763,
     "metadata": {},
     "output_type": "execute_result"
    }
   ],
   "source": [
    "credit_df.columns"
   ]
  },
  {
   "cell_type": "markdown",
   "metadata": {},
   "source": [
    "## 2.4) Checking for the Null values in the Data"
   ]
  },
  {
   "cell_type": "code",
   "execution_count": 764,
   "metadata": {},
   "outputs": [
    {
     "data": {
      "text/plain": [
       "checking_balance        0\n",
       "months_loan_duration    0\n",
       "credit_history          0\n",
       "purpose                 0\n",
       "amount                  0\n",
       "savings_balance         0\n",
       "employment_duration     0\n",
       "percent_of_income       0\n",
       "years_at_residence      0\n",
       "age                     0\n",
       "other_credit            0\n",
       "housing                 0\n",
       "existing_loans_count    0\n",
       "job                     0\n",
       "dependents              0\n",
       "phone                   0\n",
       "default                 0\n",
       "dtype: int64"
      ]
     },
     "execution_count": 764,
     "metadata": {},
     "output_type": "execute_result"
    }
   ],
   "source": [
    "credit_df.isnull().sum()"
   ]
  },
  {
   "cell_type": "markdown",
   "metadata": {},
   "source": [
    "## 2.5) Replacing the values in 'checking_balance' column and giving it the proper name"
   ]
  },
  {
   "cell_type": "markdown",
   "metadata": {},
   "source": [
    "Replacing the values with the proper name in the column 'checking_balance'"
   ]
  },
  {
   "cell_type": "code",
   "execution_count": 765,
   "metadata": {},
   "outputs": [
    {
     "data": {
      "text/plain": [
       "array(['< 0 DM', '1 - 200 DM', 'unknown', '> 200 DM'], dtype=object)"
      ]
     },
     "execution_count": 765,
     "metadata": {},
     "output_type": "execute_result"
    }
   ],
   "source": [
    "credit_df['checking_balance'].unique()"
   ]
  },
  {
   "cell_type": "code",
   "execution_count": 766,
   "metadata": {},
   "outputs": [],
   "source": [
    "credit_df['checking_balance'] = credit_df[\"checking_balance\"].replace(['< 0 DM', '1 - 200 DM', 'unknown', '> 200 DM'],\n",
    "                                                                [\"less\", \"moderate\", \"unknown\", \"rich\"])"
   ]
  },
  {
   "cell_type": "markdown",
   "metadata": {},
   "source": [
    "## 2.6) Replacing the values in 'savings_balance' column and giving it the proper name"
   ]
  },
  {
   "cell_type": "markdown",
   "metadata": {},
   "source": [
    "Replacing the values with the proper name in the column 'saving_balance'"
   ]
  },
  {
   "cell_type": "code",
   "execution_count": 767,
   "metadata": {},
   "outputs": [
    {
     "data": {
      "text/plain": [
       "array(['unknown', '< 100 DM', '500 - 1000 DM', '> 1000 DM',\n",
       "       '100 - 500 DM'], dtype=object)"
      ]
     },
     "execution_count": 767,
     "metadata": {},
     "output_type": "execute_result"
    }
   ],
   "source": [
    "credit_df['savings_balance'].unique()"
   ]
  },
  {
   "cell_type": "code",
   "execution_count": 768,
   "metadata": {},
   "outputs": [],
   "source": [
    "credit_df['savings_balance'] = credit_df[\"savings_balance\"].replace(['unknown', '< 100 DM', '500 - 1000 DM', '> 1000 DM',\n",
    "       '100 - 500 DM'], [\"unknown\", \"less\", \"rich\", \"v_rich\", \"moderate\" ])"
   ]
  },
  {
   "cell_type": "markdown",
   "metadata": {},
   "source": [
    "# 3) Exploratory Data Analysis(EDA)"
   ]
  },
  {
   "cell_type": "markdown",
   "metadata": {},
   "source": [
    "## 3.1) Creating Count Plot Between the columns Job and default"
   ]
  },
  {
   "cell_type": "code",
   "execution_count": 769,
   "metadata": {},
   "outputs": [
    {
     "data": {
      "text/plain": [
       "<matplotlib.axes._subplots.AxesSubplot at 0x1dd944d2588>"
      ]
     },
     "execution_count": 769,
     "metadata": {},
     "output_type": "execute_result"
    },
    {
     "data": {
      "image/png": "[encoded data removed]",
      "text/plain": [
       "<Figure size 432x288 with 1 Axes>"
      ]
     },
     "metadata": {
      "needs_background": "light"
     },
     "output_type": "display_data"
    }
   ],
   "source": [
    "sns.countplot(x= 'job', data = credit_df, hue= 'default')"
   ]
  },
  {
   "cell_type": "markdown",
   "metadata": {},
   "source": [
    "From this graph, it can be observed that the maximum sample in this data belongs to the Skilled Job class. \n",
    "\n",
    "In all the Job classes the count of defaulters is lower than the count of Non-defaulters"
   ]
  },
  {
   "cell_type": "markdown",
   "metadata": {},
   "source": [
    "## 3.2) Creating Count Plot Between the columns housing and default"
   ]
  },
  {
   "cell_type": "code",
   "execution_count": 770,
   "metadata": {},
   "outputs": [
    {
     "data": {
      "text/plain": [
       "<matplotlib.axes._subplots.AxesSubplot at 0x1dd97611808>"
      ]
     },
     "execution_count": 770,
     "metadata": {},
     "output_type": "execute_result"
    },
    {
     "data": {
      "image/png": "[encoded data removed]",
      "text/plain": [
       "<Figure size 432x288 with 1 Axes>"
      ]
     },
     "metadata": {
      "needs_background": "light"
     },
     "output_type": "display_data"
    }
   ],
   "source": [
    "sns.countplot(x= 'housing', data = credit_df, hue= 'default')"
   ]
  },
  {
   "cell_type": "markdown",
   "metadata": {},
   "source": [
    "It can be observed from this graph that the majority of samples belong to the people who have their own house. \n",
    "\n",
    "In all other Housing groups, the count of defaulters and non-defaulters are almost close"
   ]
  },
  {
   "cell_type": "markdown",
   "metadata": {},
   "source": [
    "## 3.3) Creating Count Plot Between the columns saving_balance and default"
   ]
  },
  {
   "cell_type": "code",
   "execution_count": 771,
   "metadata": {},
   "outputs": [
    {
     "data": {
      "text/plain": [
       "<matplotlib.axes._subplots.AxesSubplot at 0x1dd976a9888>"
      ]
     },
     "execution_count": 771,
     "metadata": {},
     "output_type": "execute_result"
    },
    {
     "data": {
      "image/png": "[encoded data removed]",
      "text/plain": [
       "<Figure size 432x288 with 1 Axes>"
      ]
     },
     "metadata": {
      "needs_background": "light"
     },
     "output_type": "display_data"
    }
   ],
   "source": [
    "sns.countplot(x= 'savings_balance', data = credit_df, hue= 'default')"
   ]
  },
  {
   "cell_type": "markdown",
   "metadata": {},
   "source": [
    "It can be interpreted from this graph that people who are saving less money is likely to default more than others. \n",
    "\n",
    "People who are rich and very rich are likely to pay their credits back on time."
   ]
  },
  {
   "cell_type": "markdown",
   "metadata": {},
   "source": [
    "\n",
    "\n",
    "## 3.4) Creating Count Plot Between the columns checking_balance and default"
   ]
  },
  {
   "cell_type": "code",
   "execution_count": 772,
   "metadata": {},
   "outputs": [
    {
     "data": {
      "text/plain": [
       "<matplotlib.axes._subplots.AxesSubplot at 0x1dd88bc9488>"
      ]
     },
     "execution_count": 772,
     "metadata": {},
     "output_type": "execute_result"
    },
    {
     "data": {
      "image/png": "[encoded data removed]",
      "text/plain": [
       "<Figure size 432x288 with 1 Axes>"
      ]
     },
     "metadata": {
      "needs_background": "light"
     },
     "output_type": "display_data"
    }
   ],
   "source": [
    "sns.countplot(x= 'checking_balance', data = credit_df, hue= 'default')"
   ]
  },
  {
   "cell_type": "markdown",
   "metadata": {},
   "source": [
    "This graph states that people who have a less current salary have an almost equal chance of defaulting and non-defaulting.\n",
    "\n",
    "Rich people tend to pay their loans on time.\n",
    "\n",
    "People with Unknown salary also have very fewer defaulters."
   ]
  },
  {
   "cell_type": "code",
   "execution_count": 773,
   "metadata": {},
   "outputs": [
    {
     "data": {
      "text/plain": [
       "<matplotlib.axes._subplots.AxesSubplot at 0x1dd946e8e48>"
      ]
     },
     "execution_count": 773,
     "metadata": {},
     "output_type": "execute_result"
    },
    {
     "data": {
      "image/png": "[encoded data removed]",
      "text/plain": [
       "<Figure size 432x288 with 1 Axes>"
      ]
     },
     "metadata": {
      "needs_background": "light"
     },
     "output_type": "display_data"
    }
   ],
   "source": [
    "sns.countplot(x= 'employment_duration', data = credit_df, hue= 'default')"
   ]
  },
  {
   "cell_type": "markdown",
   "metadata": {},
   "source": [
    "This graph shows that Unemployed people likely to fall in the defaulters “category”.   \n",
    "\n",
    "People who have been employed for more than 4 years but less than 7 years are likely to pay the loan. \n",
    "\n",
    "People who have been employed for more than 7 years are likely to repay the loan and people who have experienced less than one year might fall into the defaulters' category."
   ]
  },
  {
   "cell_type": "markdown",
   "metadata": {},
   "source": [
    "# 4) Feature Engineering "
   ]
  },
  {
   "cell_type": "markdown",
   "metadata": {},
   "source": [
    "## 4.1) Mapping the Values "
   ]
  },
  {
   "cell_type": "markdown",
   "metadata": {},
   "source": [
    "Columns 'checking_balance' and 'savings_balance' have the almost similar features."
   ]
  },
  {
   "cell_type": "markdown",
   "metadata": {},
   "source": [
    "Column 'checking_balance' has \"less\", \"moderate\", \"unknown\", \"rich\""
   ]
  },
  {
   "cell_type": "markdown",
   "metadata": {},
   "source": [
    "Column 'saving_balance' has \"unknown\", \"less\", \"rich\", \"v_rich\", \"moderate\" "
   ]
  },
  {
   "cell_type": "markdown",
   "metadata": {},
   "source": [
    "from this we can club columns \"saving_balance and checking balance\" into three categories \"Less\", \"Rich\", \"Moderate\""
   ]
  },
  {
   "cell_type": "code",
   "execution_count": 774,
   "metadata": {},
   "outputs": [],
   "source": [
    "credit_df['checking_balance'] = credit_df['checking_balance'].map({'less': 'less', 'moderate': 'moderate','rich':'rich', 'unknown':'rich' })"
   ]
  },
  {
   "cell_type": "code",
   "execution_count": 775,
   "metadata": {},
   "outputs": [],
   "source": [
    "credit_df['savings_balance'] = credit_df['savings_balance'].map({'less': 'less', 'moderate': 'moderate','rich':'rich', 'unknown':'rich', \n",
    "                                                               'v_rich': 'rich'})"
   ]
  },
  {
   "cell_type": "markdown",
   "metadata": {},
   "source": [
    "## 4.2) Label Encoding all the categorical columns "
   ]
  },
  {
   "cell_type": "markdown",
   "metadata": {},
   "source": [
    "Using Label Encoder we can encode the categorical variable into numercial varibale, so label encoder we will be used on column \"Purpose\"\n",
    "The \"Purpose\" column have 6 features 'furniture/appliances', 'education', 'car', 'business','renovations', 'car0"
   ]
  },
  {
   "cell_type": "markdown",
   "metadata": {},
   "source": [
    "Similarly will encode the categorical varibale on the columns \"checking_balance\", \"credit_history\", \"savings_balance\" "
   ]
  },
  {
   "cell_type": "code",
   "execution_count": 776,
   "metadata": {},
   "outputs": [],
   "source": [
    "LE = LabelEncoder()\n",
    "credit_df['purpose'] = LE.fit_transform(credit_df['purpose'])"
   ]
  },
  {
   "cell_type": "code",
   "execution_count": 777,
   "metadata": {},
   "outputs": [],
   "source": [
    "credit_df['job'] = LE.fit_transform(credit_df['job'])\n",
    "credit_df['checking_balance'] = LE.fit_transform(credit_df['checking_balance'])\n",
    "credit_df['savings_balance'] = LE.fit_transform(credit_df['savings_balance'])\n",
    "credit_df['credit_history'] = LE.fit_transform(credit_df['credit_history'])\n",
    "credit_df[\"credit_history\"] = LE.fit_transform(credit_df['credit_history'])\n",
    "credit_df['employment_duration'] = LE.fit_transform(credit_df['employment_duration'])"
   ]
  },
  {
   "cell_type": "markdown",
   "metadata": {},
   "source": [
    "## 4.3) Chechking for Imbalance Class "
   ]
  },
  {
   "cell_type": "code",
   "execution_count": 778,
   "metadata": {},
   "outputs": [],
   "source": [
    "credit_df['default'] = credit_df['default'].map({'no':0, 'yes': 1})"
   ]
  },
  {
   "cell_type": "code",
   "execution_count": 779,
   "metadata": {},
   "outputs": [
    {
     "data": {
      "text/plain": [
       "<matplotlib.axes._subplots.AxesSubplot at 0x1dd94681288>"
      ]
     },
     "execution_count": 779,
     "metadata": {},
     "output_type": "execute_result"
    },
    {
     "data": {
      "image/png": "[encoded data removed]",
      "text/plain": [
       "<Figure size 432x288 with 1 Axes>"
      ]
     },
     "metadata": {
      "needs_background": "light"
     },
     "output_type": "display_data"
    }
   ],
   "source": [
    "sns.countplot(credit_df['default'])"
   ]
  },
  {
   "cell_type": "markdown",
   "metadata": {},
   "source": [
    "Count Plot shows the Count of Class 1 is 300 and Count of Class 2 is 700, to counter this, We need to Upsample the Minority Class,\n",
    "\n",
    "there are several techniques to Upsample the Minority Class, but in this case will use Synthetic Minority Oversampling Technique or SMOTE"
   ]
  },
  {
   "cell_type": "code",
   "execution_count": 780,
   "metadata": {},
   "outputs": [],
   "source": [
    "X = credit_df.drop([\"other_credit\", \"housing\", \"phone\", \"default\"], axis = 1)\n",
    "Y = credit_df[\"default\"]"
   ]
  },
  {
   "cell_type": "code",
   "execution_count": 781,
   "metadata": {},
   "outputs": [],
   "source": [
    "X, Y = SMOTE().fit_resample(X, Y)"
   ]
  },
  {
   "cell_type": "code",
   "execution_count": 782,
   "metadata": {},
   "outputs": [
    {
     "data": {
      "text/plain": [
       "<matplotlib.axes._subplots.AxesSubplot at 0x1dd94633d88>"
      ]
     },
     "execution_count": 782,
     "metadata": {},
     "output_type": "execute_result"
    },
    {
     "data": {
      "image/png": "[encoded data removed]",
      "text/plain": [
       "<Figure size 432x288 with 1 Axes>"
      ]
     },
     "metadata": {
      "needs_background": "light"
     },
     "output_type": "display_data"
    }
   ],
   "source": [
    "sns.countplot(Y)"
   ]
  },
  {
   "cell_type": "markdown",
   "metadata": {},
   "source": [
    "Here We can see that Class 1 has been Upsampled from 300 to 700"
   ]
  },
  {
   "cell_type": "code",
   "execution_count": 783,
   "metadata": {},
   "outputs": [
    {
     "data": {
      "text/plain": [
       "Index(['checking_balance', 'months_loan_duration', 'credit_history', 'purpose',\n",
       "       'amount', 'savings_balance', 'employment_duration', 'percent_of_income',\n",
       "       'years_at_residence', 'age', 'existing_loans_count', 'job',\n",
       "       'dependents'],\n",
       "      dtype='object')"
      ]
     },
     "execution_count": 783,
     "metadata": {},
     "output_type": "execute_result"
    }
   ],
   "source": [
    "X.columns"
   ]
  },
  {
   "cell_type": "code",
   "execution_count": 784,
   "metadata": {},
   "outputs": [
    {
     "data": {
      "text/html": [
       "<div>\n",
       "<style scoped>\n",
       "    .dataframe tbody tr th:only-of-type {\n",
       "        vertical-align: middle;\n",
       "    }\n",
       "\n",
       "    .dataframe tbody tr th {\n",
       "        vertical-align: top;\n",
       "    }\n",
       "\n",
       "    .dataframe thead th {\n",
       "        text-align: right;\n",
       "    }\n",
       "</style>\n",
       "<table border=\"1\" class=\"dataframe\">\n",
       "  <thead>\n",
       "    <tr style=\"text-align: right;\">\n",
       "      <th></th>\n",
       "      <th>checking_balance</th>\n",
       "      <th>months_loan_duration</th>\n",
       "      <th>credit_history</th>\n",
       "      <th>purpose</th>\n",
       "      <th>amount</th>\n",
       "      <th>savings_balance</th>\n",
       "      <th>employment_duration</th>\n",
       "      <th>percent_of_income</th>\n",
       "      <th>years_at_residence</th>\n",
       "      <th>age</th>\n",
       "      <th>existing_loans_count</th>\n",
       "      <th>job</th>\n",
       "      <th>dependents</th>\n",
       "    </tr>\n",
       "  </thead>\n",
       "  <tbody>\n",
       "    <tr>\n",
       "      <td>count</td>\n",
       "      <td>1400.000000</td>\n",
       "      <td>1400.000000</td>\n",
       "      <td>1400.000000</td>\n",
       "      <td>1400.000000</td>\n",
       "      <td>1400.000000</td>\n",
       "      <td>1400.000000</td>\n",
       "      <td>1400.000000</td>\n",
       "      <td>1400.000000</td>\n",
       "      <td>1400.000000</td>\n",
       "      <td>1400.000000</td>\n",
       "      <td>1400.000000</td>\n",
       "      <td>1400.000000</td>\n",
       "      <td>1400.000000</td>\n",
       "    </tr>\n",
       "    <tr>\n",
       "      <td>mean</td>\n",
       "      <td>0.971429</td>\n",
       "      <td>21.790714</td>\n",
       "      <td>1.095714</td>\n",
       "      <td>2.390000</td>\n",
       "      <td>3465.818571</td>\n",
       "      <td>0.556429</td>\n",
       "      <td>1.420000</td>\n",
       "      <td>2.910714</td>\n",
       "      <td>2.735000</td>\n",
       "      <td>35.055714</td>\n",
       "      <td>1.338571</td>\n",
       "      <td>1.194286</td>\n",
       "      <td>1.119286</td>\n",
       "    </tr>\n",
       "    <tr>\n",
       "      <td>std</td>\n",
       "      <td>0.836471</td>\n",
       "      <td>12.208391</td>\n",
       "      <td>1.025471</td>\n",
       "      <td>1.568329</td>\n",
       "      <td>3010.571692</td>\n",
       "      <td>0.820372</td>\n",
       "      <td>1.279698</td>\n",
       "      <td>1.099041</td>\n",
       "      <td>1.082938</td>\n",
       "      <td>10.852631</td>\n",
       "      <td>0.544986</td>\n",
       "      <td>0.907893</td>\n",
       "      <td>0.324240</td>\n",
       "    </tr>\n",
       "    <tr>\n",
       "      <td>min</td>\n",
       "      <td>0.000000</td>\n",
       "      <td>4.000000</td>\n",
       "      <td>0.000000</td>\n",
       "      <td>0.000000</td>\n",
       "      <td>250.000000</td>\n",
       "      <td>0.000000</td>\n",
       "      <td>0.000000</td>\n",
       "      <td>1.000000</td>\n",
       "      <td>1.000000</td>\n",
       "      <td>19.000000</td>\n",
       "      <td>1.000000</td>\n",
       "      <td>0.000000</td>\n",
       "      <td>1.000000</td>\n",
       "    </tr>\n",
       "    <tr>\n",
       "      <td>25%</td>\n",
       "      <td>0.000000</td>\n",
       "      <td>12.000000</td>\n",
       "      <td>0.000000</td>\n",
       "      <td>1.000000</td>\n",
       "      <td>1355.000000</td>\n",
       "      <td>0.000000</td>\n",
       "      <td>0.000000</td>\n",
       "      <td>2.000000</td>\n",
       "      <td>2.000000</td>\n",
       "      <td>27.000000</td>\n",
       "      <td>1.000000</td>\n",
       "      <td>1.000000</td>\n",
       "      <td>1.000000</td>\n",
       "    </tr>\n",
       "    <tr>\n",
       "      <td>50%</td>\n",
       "      <td>1.000000</td>\n",
       "      <td>18.000000</td>\n",
       "      <td>1.000000</td>\n",
       "      <td>3.000000</td>\n",
       "      <td>2360.500000</td>\n",
       "      <td>0.000000</td>\n",
       "      <td>1.000000</td>\n",
       "      <td>3.000000</td>\n",
       "      <td>3.000000</td>\n",
       "      <td>33.000000</td>\n",
       "      <td>1.000000</td>\n",
       "      <td>1.000000</td>\n",
       "      <td>1.000000</td>\n",
       "    </tr>\n",
       "    <tr>\n",
       "      <td>75%</td>\n",
       "      <td>2.000000</td>\n",
       "      <td>27.000000</td>\n",
       "      <td>1.000000</td>\n",
       "      <td>4.000000</td>\n",
       "      <td>4524.500000</td>\n",
       "      <td>1.000000</td>\n",
       "      <td>3.000000</td>\n",
       "      <td>4.000000</td>\n",
       "      <td>4.000000</td>\n",
       "      <td>41.000000</td>\n",
       "      <td>2.000000</td>\n",
       "      <td>1.000000</td>\n",
       "      <td>1.000000</td>\n",
       "    </tr>\n",
       "    <tr>\n",
       "      <td>max</td>\n",
       "      <td>2.000000</td>\n",
       "      <td>72.000000</td>\n",
       "      <td>4.000000</td>\n",
       "      <td>5.000000</td>\n",
       "      <td>18424.000000</td>\n",
       "      <td>2.000000</td>\n",
       "      <td>4.000000</td>\n",
       "      <td>4.000000</td>\n",
       "      <td>4.000000</td>\n",
       "      <td>75.000000</td>\n",
       "      <td>4.000000</td>\n",
       "      <td>3.000000</td>\n",
       "      <td>2.000000</td>\n",
       "    </tr>\n",
       "  </tbody>\n",
       "</table>\n",
       "</div>"
      ],
      "text/plain": [
       "       checking_balance  months_loan_duration  credit_history      purpose  \\\n",
       "count       1400.000000           1400.000000     1400.000000  1400.000000   \n",
       "mean           0.971429             21.790714        1.095714     2.390000   \n",
       "std            0.836471             12.208391        1.025471     1.568329   \n",
       "min            0.000000              4.000000        0.000000     0.000000   \n",
       "25%            0.000000             12.000000        0.000000     1.000000   \n",
       "50%            1.000000             18.000000        1.000000     3.000000   \n",
       "75%            2.000000             27.000000        1.000000     4.000000   \n",
       "max            2.000000             72.000000        4.000000     5.000000   \n",
       "\n",
       "             amount  savings_balance  employment_duration  percent_of_income  \\\n",
       "count   1400.000000      1400.000000          1400.000000        1400.000000   \n",
       "mean    3465.818571         0.556429             1.420000           2.910714   \n",
       "std     3010.571692         0.820372             1.279698           1.099041   \n",
       "min      250.000000         0.000000             0.000000           1.000000   \n",
       "25%     1355.000000         0.000000             0.000000           2.000000   \n",
       "50%     2360.500000         0.000000             1.000000           3.000000   \n",
       "75%     4524.500000         1.000000             3.000000           4.000000   \n",
       "max    18424.000000         2.000000             4.000000           4.000000   \n",
       "\n",
       "       years_at_residence          age  existing_loans_count          job  \\\n",
       "count         1400.000000  1400.000000           1400.000000  1400.000000   \n",
       "mean             2.735000    35.055714              1.338571     1.194286   \n",
       "std              1.082938    10.852631              0.544986     0.907893   \n",
       "min              1.000000    19.000000              1.000000     0.000000   \n",
       "25%              2.000000    27.000000              1.000000     1.000000   \n",
       "50%              3.000000    33.000000              1.000000     1.000000   \n",
       "75%              4.000000    41.000000              2.000000     1.000000   \n",
       "max              4.000000    75.000000              4.000000     3.000000   \n",
       "\n",
       "        dependents  \n",
       "count  1400.000000  \n",
       "mean      1.119286  \n",
       "std       0.324240  \n",
       "min       1.000000  \n",
       "25%       1.000000  \n",
       "50%       1.000000  \n",
       "75%       1.000000  \n",
       "max       2.000000  "
      ]
     },
     "execution_count": 784,
     "metadata": {},
     "output_type": "execute_result"
    }
   ],
   "source": [
    "X.describe()"
   ]
  },
  {
   "cell_type": "markdown",
   "metadata": {},
   "source": [
    "## 4.4) Standardization for bringing all features into single scale"
   ]
  },
  {
   "cell_type": "code",
   "execution_count": 785,
   "metadata": {},
   "outputs": [],
   "source": [
    "## Initializing the StandardScaler\n",
    "X_scale = MinMaxScaler()\n",
    "## Standardize all the feature columns\n",
    "X_scaled = X_scale.fit_transform(X) \n"
   ]
  },
  {
   "cell_type": "markdown",
   "metadata": {},
   "source": [
    "# 5) Build the Model "
   ]
  },
  {
   "cell_type": "markdown",
   "metadata": {},
   "source": [
    "1) First Step while building the machine learning model is to Split the data into training and testing set\n",
    "\n",
    "2) Import the library that we want to use to build the machine learning model\n",
    "\n",
    "3) Validate the model and Measure the Model Accuracy\n",
    "\n",
    "4) deployment"
   ]
  },
  {
   "cell_type": "markdown",
   "metadata": {},
   "source": [
    "## 5.1) Spliting up the data into training and testing set"
   ]
  },
  {
   "cell_type": "code",
   "execution_count": 786,
   "metadata": {},
   "outputs": [],
   "source": [
    "train_x, test_x, train_y, test_y = train_test_split(X_scaled, Y, test_size=0.2, random_state=42)"
   ]
  },
  {
   "cell_type": "code",
   "execution_count": 787,
   "metadata": {},
   "outputs": [
    {
     "name": "stdout",
     "output_type": "stream",
     "text": [
      "(1120, 13)\n",
      "(280, 13)\n"
     ]
    }
   ],
   "source": [
    "print(train_x.shape)\n",
    "print(test_x.shape)\n"
   ]
  },
  {
   "cell_type": "markdown",
   "metadata": {},
   "source": [
    "## 5.2) fitting the model"
   ]
  },
  {
   "cell_type": "markdown",
   "metadata": {},
   "source": [
    "### 5.2.1) LogisticRegression"
   ]
  },
  {
   "cell_type": "markdown",
   "metadata": {},
   "source": [
    "Logistic regression is a statistical model in which the target vector is a discrete value and the features matrix can consist of variables that can either be continuous or discrete values.\n",
    "\n",
    "the binary logistic regression model is given by\n",
    "\n",
    "P(Y=1)=e^Z/(1+e^Z )\n"
   ]
  },
  {
   "cell_type": "code",
   "execution_count": 788,
   "metadata": {},
   "outputs": [
    {
     "data": {
      "text/plain": [
       "LogisticRegression()"
      ]
     },
     "execution_count": 788,
     "metadata": {},
     "output_type": "execute_result"
    }
   ],
   "source": [
    "logit = LogisticRegression()\n",
    "logit.fit(train_x, train_y)"
   ]
  },
  {
   "cell_type": "markdown",
   "metadata": {},
   "source": [
    "predict() on the test set"
   ]
  },
  {
   "cell_type": "code",
   "execution_count": 789,
   "metadata": {},
   "outputs": [],
   "source": [
    "pred_y =  logit.predict(test_x)"
   ]
  },
  {
   "cell_type": "markdown",
   "metadata": {},
   "source": [
    "Prediction the training set"
   ]
  },
  {
   "cell_type": "code",
   "execution_count": 790,
   "metadata": {},
   "outputs": [],
   "source": [
    "pred_y_train = logit.predict(train_x)"
   ]
  },
  {
   "cell_type": "markdown",
   "metadata": {},
   "source": [
    "#### 5.2.1.1) Confusion Matrix for checking the actual and predicted values"
   ]
  },
  {
   "cell_type": "code",
   "execution_count": 791,
   "metadata": {},
   "outputs": [],
   "source": [
    "def draw_cm( actual, predicted ):\n",
    "    cm = metrics.confusion_matrix( actual, predicted, [0,1] )\n",
    "    sns.set(font_scale=1) # Adjust to fit\n",
    "    sns.heatmap(cm, annot=True, fmt='.2f')\n",
    "    xticklabels = [\"Bad credit\", \"Good Credit\"] ,\n",
    "    yticklabels = [\"Bad credit\", \"Good Credit\"] \n",
    "    plt.ylabel('True label')\n",
    "    plt.xlabel('Predicted label')\n",
    "    plt.tick_params(axis='both', which='major', labelsize=5) \n",
    "    plt.show() "
   ]
  },
  {
   "cell_type": "code",
   "execution_count": 792,
   "metadata": {},
   "outputs": [
    {
     "name": "stdout",
     "output_type": "stream",
     "text": [
      "[[106  43]\n",
      " [ 30 101]]\n"
     ]
    }
   ],
   "source": [
    "print( metrics.confusion_matrix( test_y, pred_y ) ) "
   ]
  },
  {
   "cell_type": "code",
   "execution_count": 793,
   "metadata": {},
   "outputs": [
    {
     "data": {
      "image/png": "[encoded data removed]",
      "text/plain": [
       "<Figure size 432x288 with 2 Axes>"
      ]
     },
     "metadata": {},
     "output_type": "display_data"
    }
   ],
   "source": [
    "cm = draw_cm(test_y, pred_y)\n",
    "cm"
   ]
  },
  {
   "cell_type": "markdown",
   "metadata": {},
   "source": [
    "1) True Positive(TP): 106 Good Credit(0) was predicted as positive.\n",
    "    \n",
    "2) False Positive(FP): 43 Good Credit(0) which was positive, but predicted as negative.\n",
    "    \n",
    "3) False Negative(FN): 30 Bad Credit(1) which was Negative but predicted as positive.\n",
    "\n",
    "4) True Negative(TN): 101 Bad Credit(1) was predicted as the Negative"
   ]
  },
  {
   "cell_type": "markdown",
   "metadata": {},
   "source": [
    "### 5.2.1.2) Classification Report"
   ]
  },
  {
   "cell_type": "markdown",
   "metadata": {},
   "source": [
    "##### 5.2.1.2.1) Testing report"
   ]
  },
  {
   "cell_type": "code",
   "execution_count": 794,
   "metadata": {},
   "outputs": [
    {
     "name": "stdout",
     "output_type": "stream",
     "text": [
      "              precision    recall  f1-score   support\n",
      "\n",
      "           0       0.78      0.71      0.74       149\n",
      "           1       0.70      0.77      0.73       131\n",
      "\n",
      "    accuracy                           0.74       280\n",
      "   macro avg       0.74      0.74      0.74       280\n",
      "weighted avg       0.74      0.74      0.74       280\n",
      "\n"
     ]
    }
   ],
   "source": [
    "print( metrics.classification_report( test_y, pred_y ) ) \n"
   ]
  },
  {
   "cell_type": "markdown",
   "metadata": {},
   "source": [
    "##### 5.2.1.2.2) Training report"
   ]
  },
  {
   "cell_type": "code",
   "execution_count": 795,
   "metadata": {},
   "outputs": [
    {
     "name": "stdout",
     "output_type": "stream",
     "text": [
      "              precision    recall  f1-score   support\n",
      "\n",
      "           0       0.77      0.75      0.76       551\n",
      "           1       0.76      0.79      0.78       569\n",
      "\n",
      "    accuracy                           0.77      1120\n",
      "   macro avg       0.77      0.77      0.77      1120\n",
      "weighted avg       0.77      0.77      0.77      1120\n",
      "\n"
     ]
    }
   ],
   "source": [
    "print( metrics.classification_report( train_y, pred_y_train ) ) "
   ]
  },
  {
   "cell_type": "code",
   "execution_count": 796,
   "metadata": {},
   "outputs": [
    {
     "data": {
      "text/html": [
       "<div>\n",
       "<style scoped>\n",
       "    .dataframe tbody tr th:only-of-type {\n",
       "        vertical-align: middle;\n",
       "    }\n",
       "\n",
       "    .dataframe tbody tr th {\n",
       "        vertical-align: top;\n",
       "    }\n",
       "\n",
       "    .dataframe thead th {\n",
       "        text-align: right;\n",
       "    }\n",
       "</style>\n",
       "<table border=\"1\" class=\"dataframe\">\n",
       "  <thead>\n",
       "    <tr style=\"text-align: right;\">\n",
       "      <th></th>\n",
       "      <th>0</th>\n",
       "      <th>1</th>\n",
       "    </tr>\n",
       "  </thead>\n",
       "  <tbody>\n",
       "    <tr>\n",
       "      <td>0</td>\n",
       "      <td>0.674228</td>\n",
       "      <td>0.325772</td>\n",
       "    </tr>\n",
       "    <tr>\n",
       "      <td>1</td>\n",
       "      <td>0.404693</td>\n",
       "      <td>0.595307</td>\n",
       "    </tr>\n",
       "    <tr>\n",
       "      <td>2</td>\n",
       "      <td>0.838541</td>\n",
       "      <td>0.161459</td>\n",
       "    </tr>\n",
       "    <tr>\n",
       "      <td>3</td>\n",
       "      <td>0.581912</td>\n",
       "      <td>0.418088</td>\n",
       "    </tr>\n",
       "    <tr>\n",
       "      <td>4</td>\n",
       "      <td>0.503836</td>\n",
       "      <td>0.496164</td>\n",
       "    </tr>\n",
       "  </tbody>\n",
       "</table>\n",
       "</div>"
      ],
      "text/plain": [
       "          0         1\n",
       "0  0.674228  0.325772\n",
       "1  0.404693  0.595307\n",
       "2  0.838541  0.161459\n",
       "3  0.581912  0.418088\n",
       "4  0.503836  0.496164"
      ]
     },
     "execution_count": 796,
     "metadata": {},
     "output_type": "execute_result"
    }
   ],
   "source": [
    "## ## Predicting the probability values for test cases\n",
    "predict_df = pd.DataFrame( logit.predict_proba( test_x ) )\n",
    "predict_df.head() "
   ]
  },
  {
   "cell_type": "code",
   "execution_count": 797,
   "metadata": {},
   "outputs": [],
   "source": [
    "## Initializing the DataFrame with actual class lables\n",
    "test_results = pd.DataFrame( { 'actual': test_y } )\n",
    "test_results = test_results.reset_index()\n",
    "## Assigning the probability values for class label 1\n",
    "test_results['default_1'] = predict_proba_df.iloc[:,1:2] \n"
   ]
  },
  {
   "cell_type": "markdown",
   "metadata": {},
   "source": [
    "#### 5.2.1.2) ROC and AUC Score to measure the model perormance "
   ]
  },
  {
   "cell_type": "code",
   "execution_count": 798,
   "metadata": {},
   "outputs": [
    {
     "data": {
      "text/plain": [
       "0.85"
      ]
     },
     "execution_count": 798,
     "metadata": {},
     "output_type": "execute_result"
    }
   ],
   "source": [
    "auc_score = metrics.roc_auc_score( test_results.actual, test_results.default_1)\n",
    "round( float( auc_score ), 2 ) \n"
   ]
  },
  {
   "cell_type": "markdown",
   "metadata": {},
   "source": [
    "## 5.2.2) K-Nearest Neighbors (KNN)"
   ]
  },
  {
   "cell_type": "markdown",
   "metadata": {},
   "source": [
    "KNN is a non-parametric, lazy learning algorithm used for regression and classification problems. KNN uses the distance formula to identify the new observations. Mostly used distance formula is Euclidean distance. Few more common distance formulas are \n",
    "Minkowski Distance, Jaccard, and Gowers Coefficient.\n"
   ]
  },
  {
   "cell_type": "code",
   "execution_count": 799,
   "metadata": {},
   "outputs": [
    {
     "data": {
      "text/plain": [
       "KNeighborsClassifier()"
      ]
     },
     "execution_count": 799,
     "metadata": {},
     "output_type": "execute_result"
    }
   ],
   "source": [
    "## Initializing the classifier\n",
    "knn_clf = KNeighborsClassifier()\n",
    "## Fitting the model with the training set\n",
    "knn_clf.fit( train_x, train_y) \n"
   ]
  },
  {
   "cell_type": "code",
   "execution_count": 829,
   "metadata": {},
   "outputs": [
    {
     "name": "stdout",
     "output_type": "stream",
     "text": [
      "[[100  49]\n",
      " [ 24 107]]\n"
     ]
    }
   ],
   "source": [
    "print( metrics.confusion_matrix( test_y, pred_y_knn ) ) "
   ]
  },
  {
   "cell_type": "code",
   "execution_count": 801,
   "metadata": {},
   "outputs": [
    {
     "data": {
      "image/png": "[encoded data removed]",
      "text/plain": [
       "<Figure size 432x288 with 2 Axes>"
      ]
     },
     "metadata": {},
     "output_type": "display_data"
    }
   ],
   "source": [
    "## Predicting on test set\n",
    "pred_y_knn = knn_clf.predict(test_x)\n",
    "## Drawing the confusion matrix for KNN model\n",
    "draw_cm( test_y, pred_y_knn ) \n"
   ]
  },
  {
   "cell_type": "markdown",
   "metadata": {},
   "source": [
    "1) True Positive(TP): 100 Good Credit(0) was predicted as positive.\n",
    "    \n",
    "2) False Positive(FP): 49 Good Credit(0) which was positive, but predicted as negative.\n",
    "    \n",
    "3) False Negative(FN): 24 Bad Credit(1) which was Negative but predicted as positive.\n",
    "    \n",
    "4) True Negative(TN): 107 Bad Credit(1) was predicted as the Negative\n"
   ]
  },
  {
   "cell_type": "code",
   "execution_count": 802,
   "metadata": {},
   "outputs": [],
   "source": [
    "pred_knn = knn_clf.predict(train_x)"
   ]
  },
  {
   "cell_type": "markdown",
   "metadata": {},
   "source": [
    "### 5.2.2.1) Classification Report "
   ]
  },
  {
   "cell_type": "markdown",
   "metadata": {},
   "source": [
    "##### 5.2.2.1.1) Testing report"
   ]
  },
  {
   "cell_type": "code",
   "execution_count": 803,
   "metadata": {},
   "outputs": [
    {
     "name": "stdout",
     "output_type": "stream",
     "text": [
      "              precision    recall  f1-score   support\n",
      "\n",
      "           0       0.81      0.67      0.73       149\n",
      "           1       0.69      0.82      0.75       131\n",
      "\n",
      "    accuracy                           0.74       280\n",
      "   macro avg       0.75      0.74      0.74       280\n",
      "weighted avg       0.75      0.74      0.74       280\n",
      "\n"
     ]
    }
   ],
   "source": [
    "print( metrics.classification_report( test_y, pred_y_knn ) ) "
   ]
  },
  {
   "cell_type": "markdown",
   "metadata": {},
   "source": [
    "##### 5.2.2.1.2) Training report"
   ]
  },
  {
   "cell_type": "code",
   "execution_count": 804,
   "metadata": {},
   "outputs": [
    {
     "name": "stdout",
     "output_type": "stream",
     "text": [
      "              precision    recall  f1-score   support\n",
      "\n",
      "           0       0.86      0.81      0.83       551\n",
      "           1       0.82      0.87      0.85       569\n",
      "\n",
      "    accuracy                           0.84      1120\n",
      "   macro avg       0.84      0.84      0.84      1120\n",
      "weighted avg       0.84      0.84      0.84      1120\n",
      "\n"
     ]
    }
   ],
   "source": [
    "print( metrics.classification_report( train_y, pred_knn ) ) "
   ]
  },
  {
   "cell_type": "markdown",
   "metadata": {},
   "source": [
    "## 5.3) GridSearch "
   ]
  },
  {
   "cell_type": "markdown",
   "metadata": {},
   "source": [
    "Selection of Hyperparameter can be done by the using by GridSearch CV, it search thorugh the set and find the optimal hypermeter"
   ]
  },
  {
   "cell_type": "markdown",
   "metadata": {},
   "source": [
    "### 5.3.1 GridSearch Cv for K Nearest neighbor"
   ]
  },
  {
   "cell_type": "code",
   "execution_count": 805,
   "metadata": {},
   "outputs": [
    {
     "data": {
      "text/plain": [
       "GridSearchCV(cv=10, estimator=KNeighborsClassifier(),\n",
       "             param_grid=[{'metric': ['canberra', 'euclidean', 'minkowski'],\n",
       "                          'n_neighbors': range(5, 10)}],\n",
       "             scoring='roc_auc')"
      ]
     },
     "execution_count": 805,
     "metadata": {},
     "output_type": "execute_result"
    }
   ],
   "source": [
    "tuned_parameters = [{'n_neighbors': range(5,10),\n",
    "'metric': ['canberra', 'euclidean', 'minkowski']}]\n",
    "## Configuring grid search\n",
    "clf = GridSearchCV(KNeighborsClassifier(),\n",
    "tuned_parameters,\n",
    "cv=10,\n",
    "scoring='roc_auc')\n",
    "## fit the search with training set\n",
    "clf.fit(train_x, train_y)"
   ]
  },
  {
   "cell_type": "code",
   "execution_count": 806,
   "metadata": {},
   "outputs": [
    {
     "data": {
      "text/plain": [
       "0.847165407430915"
      ]
     },
     "execution_count": 806,
     "metadata": {},
     "output_type": "execute_result"
    }
   ],
   "source": [
    "clf.best_score_"
   ]
  },
  {
   "cell_type": "code",
   "execution_count": 807,
   "metadata": {},
   "outputs": [
    {
     "data": {
      "text/plain": [
       "{'metric': 'canberra', 'n_neighbors': 9}"
      ]
     },
     "execution_count": 807,
     "metadata": {},
     "output_type": "execute_result"
    }
   ],
   "source": [
    "clf.best_params_"
   ]
  },
  {
   "cell_type": "markdown",
   "metadata": {},
   "source": [
    "# 5.4) Random Forest"
   ]
  },
  {
   "cell_type": "markdown",
   "metadata": {},
   "source": [
    "Random forest is one of the most popular ensemble techniques used in the industry due to its performance and scalability, It’s an ensemble of decision trees.\n",
    "Random Forest model are:\n",
    "1.\tThe number of decision trees.\n",
    "2.\tThe number of records and features to be sampled.\n",
    "3.\tThe depth and search criteria (Gini impurity index or entropy).\n"
   ]
  },
  {
   "cell_type": "code",
   "execution_count": 808,
   "metadata": {},
   "outputs": [
    {
     "data": {
      "text/plain": [
       "RandomForestClassifier(max_depth=10, n_estimators=10)"
      ]
     },
     "execution_count": 808,
     "metadata": {},
     "output_type": "execute_result"
    }
   ],
   "source": [
    "radm_clf = RandomForestClassifier( max_depth=10, n_estimators=10)\n",
    "radm_clf.fit( train_x, train_y ) "
   ]
  },
  {
   "cell_type": "code",
   "execution_count": 830,
   "metadata": {},
   "outputs": [
    {
     "name": "stdout",
     "output_type": "stream",
     "text": [
      "[[115  34]\n",
      " [ 22 109]]\n"
     ]
    }
   ],
   "source": [
    "print( metrics.confusion_matrix( test_y, pred_y_rand ) ) "
   ]
  },
  {
   "cell_type": "code",
   "execution_count": 810,
   "metadata": {},
   "outputs": [
    {
     "data": {
      "image/png": "[encoded data removed]",
      "text/plain": [
       "<Figure size 432x288 with 2 Axes>"
      ]
     },
     "metadata": {},
     "output_type": "display_data"
    }
   ],
   "source": [
    "## Predicting on test set\n",
    "pred_y_rand = radm_clf.predict(test_x)\n",
    "## Drawing the confusion matrix for KNN model\n",
    "draw_cm( test_y, pred_y_rand )"
   ]
  },
  {
   "cell_type": "markdown",
   "metadata": {},
   "source": [
    "1) True Positive(TP): 115 Good Credit(0) was predicted as positive.\n",
    "    \n",
    "2) False Positive(FP): 34 Good Credit(0) which was positive, but predicted as negative.\n",
    "    \n",
    "3) False Negative(FN): 22 Bad Credit(1) which was Negative but predicted as positive.\n",
    "    \n",
    "4) True Negative(TN): 109 Bad Credit(1) was predicted as the Negative"
   ]
  },
  {
   "cell_type": "code",
   "execution_count": 811,
   "metadata": {},
   "outputs": [],
   "source": [
    "pred_rand = radm_clf.predict(train_x)"
   ]
  },
  {
   "cell_type": "markdown",
   "metadata": {},
   "source": [
    "### 5.4.1) Classification Report"
   ]
  },
  {
   "cell_type": "markdown",
   "metadata": {},
   "source": [
    "##### 5.4.1.1.1) Testing report"
   ]
  },
  {
   "cell_type": "code",
   "execution_count": 812,
   "metadata": {},
   "outputs": [
    {
     "name": "stdout",
     "output_type": "stream",
     "text": [
      "              precision    recall  f1-score   support\n",
      "\n",
      "           0       0.84      0.77      0.80       149\n",
      "           1       0.76      0.83      0.80       131\n",
      "\n",
      "    accuracy                           0.80       280\n",
      "   macro avg       0.80      0.80      0.80       280\n",
      "weighted avg       0.80      0.80      0.80       280\n",
      "\n"
     ]
    }
   ],
   "source": [
    "print( metrics.classification_report( test_y, pred_y_rand ) ) "
   ]
  },
  {
   "cell_type": "markdown",
   "metadata": {},
   "source": [
    "##### 5.4.1.1.2) Training report"
   ]
  },
  {
   "cell_type": "code",
   "execution_count": 813,
   "metadata": {},
   "outputs": [
    {
     "name": "stdout",
     "output_type": "stream",
     "text": [
      "              precision    recall  f1-score   support\n",
      "\n",
      "           0       0.96      0.93      0.94       551\n",
      "           1       0.93      0.96      0.95       569\n",
      "\n",
      "    accuracy                           0.95      1120\n",
      "   macro avg       0.95      0.95      0.95      1120\n",
      "weighted avg       0.95      0.95      0.95      1120\n",
      "\n"
     ]
    }
   ],
   "source": [
    "print( metrics.classification_report( train_y, pred_rand ) ) "
   ]
  },
  {
   "cell_type": "markdown",
   "metadata": {},
   "source": [
    "### 5.4.2) Finding the Important features "
   ]
  },
  {
   "cell_type": "markdown",
   "metadata": {},
   "source": [
    "Feature Importance gives the good insights into which features have important information with respect to the outcome variable"
   ]
  },
  {
   "cell_type": "code",
   "execution_count": 814,
   "metadata": {},
   "outputs": [
    {
     "data": {
      "image/png": "[encoded data removed]",
      "text/plain": [
       "<Figure size 576x432 with 1 Axes>"
      ]
     },
     "metadata": {},
     "output_type": "display_data"
    }
   ],
   "source": [
    "# Create a dataframe to store the featues and their corresponding importances\n",
    "feature_rank = pd.DataFrame( {'feature': X.columns, 'importance': radm_clf.feature_importances_ } )\n",
    "## Sorting the features based on their importances with most important feature at top.\n",
    "feature_rank = feature_rank.sort_values('importance', ascending = False)\n",
    "plt.figure(figsize=(8, 6))\n",
    "# plot the values\n",
    "sns.barplot( y = 'feature', x = 'importance', data = feature_rank );"
   ]
  },
  {
   "cell_type": "markdown",
   "metadata": {},
   "source": [
    "### 5.4.3) GridSearch CV for Random Forest"
   ]
  },
  {
   "cell_type": "code",
   "execution_count": 815,
   "metadata": {},
   "outputs": [
    {
     "data": {
      "text/plain": [
       "GridSearchCV(cv=5, estimator=RandomForestClassifier(),\n",
       "             param_grid=[{'max_depth': [10, 15],\n",
       "                          'max_features': ['sqrt', 'auto'],\n",
       "                          'n_estimators': [10, 20]}],\n",
       "             scoring='roc_auc')"
      ]
     },
     "execution_count": 815,
     "metadata": {},
     "output_type": "execute_result"
    }
   ],
   "source": [
    "tuned_parameters = [{'max_depth': [10, 15],\n",
    "'n_estimators': [10,20],\n",
    "'max_features': ['sqrt', 'auto']}]\n",
    "## Initializing the RF classifier\n",
    "radm_clf = RandomForestClassifier()\n",
    "## Configuring search with the tunable parameters\n",
    "clf_rand = GridSearchCV(radm_clf,\n",
    "tuned_parameters,\n",
    "cv=5,\n",
    "scoring='roc_auc')\n",
    "## Fitting the training set\n",
    "clf_rand.fit(train_x, train_y )"
   ]
  },
  {
   "cell_type": "code",
   "execution_count": 816,
   "metadata": {},
   "outputs": [
    {
     "data": {
      "text/plain": [
       "0.8756824962321004"
      ]
     },
     "execution_count": 816,
     "metadata": {},
     "output_type": "execute_result"
    }
   ],
   "source": [
    "clf_rand.best_score_"
   ]
  },
  {
   "cell_type": "code",
   "execution_count": 817,
   "metadata": {},
   "outputs": [
    {
     "data": {
      "text/plain": [
       "{'max_depth': 15, 'max_features': 'auto', 'n_estimators': 20}"
      ]
     },
     "execution_count": 817,
     "metadata": {},
     "output_type": "execute_result"
    }
   ],
   "source": [
    "clf_rand.best_params_"
   ]
  },
  {
   "cell_type": "markdown",
   "metadata": {},
   "source": [
    " # 5.5) Gradient Boosting"
   ]
  },
  {
   "cell_type": "markdown",
   "metadata": {},
   "source": [
    "Gradient Boosting is a popular ensemble technique which converts all the weak classifier into one single strong classifier. A weak classifier is slightly better than random guessing.\n",
    "The following steps are used: \n",
    "1.\tFit the first model to the data Y = F1(x).\n",
    "2.\tFit the next model to the residuals e1 = Y – F1(x) = F2(x).\n",
    "3.\tThe above steps are repeated until the residuals do not change significantly.\n",
    "4.\tThe final model is used to make the final predictions.\n"
   ]
  },
  {
   "cell_type": "code",
   "execution_count": 818,
   "metadata": {},
   "outputs": [
    {
     "data": {
      "text/plain": [
       "GradientBoostingClassifier(max_depth=10, n_estimators=500)"
      ]
     },
     "execution_count": 818,
     "metadata": {},
     "output_type": "execute_result"
    }
   ],
   "source": [
    "## Initializing Gradient Boosting with 500 estimators and max depth as 10.\n",
    "gboost_clf = GradientBoostingClassifier( n_estimators=500, max_depth=10)\n",
    "## Fitting gradient boosting model to training set\n",
    "gboost_clf.fit(train_x, train_y ) \n"
   ]
  },
  {
   "cell_type": "code",
   "execution_count": 819,
   "metadata": {},
   "outputs": [],
   "source": [
    "cv_scores = cross_val_score( gboost_clf, train_x, train_y, cv = 10, scoring = 'roc_auc') "
   ]
  },
  {
   "cell_type": "code",
   "execution_count": 820,
   "metadata": {},
   "outputs": [
    {
     "data": {
      "text/plain": [
       "array([0.92822967, 0.88229665, 0.86060606, 0.88421053, 0.86379585,\n",
       "       0.88261563, 0.88644338, 0.91770335, 0.93046252, 0.89253827])"
      ]
     },
     "execution_count": 820,
     "metadata": {},
     "output_type": "execute_result"
    }
   ],
   "source": [
    "cv_scores"
   ]
  },
  {
   "cell_type": "code",
   "execution_count": 827,
   "metadata": {},
   "outputs": [
    {
     "name": "stdout",
     "output_type": "stream",
     "text": [
      "[[123  26]\n",
      " [ 25 106]]\n"
     ]
    }
   ],
   "source": [
    "print( metrics.confusion_matrix( test_y, pred_y_gb ) ) "
   ]
  },
  {
   "cell_type": "code",
   "execution_count": 822,
   "metadata": {},
   "outputs": [
    {
     "data": {
      "image/png": "[encoded data removed]",
      "text/plain": [
       "<Figure size 432x288 with 2 Axes>"
      ]
     },
     "metadata": {},
     "output_type": "display_data"
    }
   ],
   "source": [
    "gboost_clf.fit(train_x, train_y )\n",
    "pred_y_gb = gboost_clf.predict( test_x )\n",
    "draw_cm( test_y, pred_y_gb ) "
   ]
  },
  {
   "cell_type": "markdown",
   "metadata": {},
   "source": [
    "1) True Positive(TP): 123 Good Credit(0) was predicted as positive.\n",
    "    \n",
    "2) False Positive(FP): 26 Good Credit(0) which was positive, but predicted as negative.\n",
    "    \n",
    "3) False Negative(FN): 25 Bad Credit(1) which was Negative but predicted as positive.\n",
    "    \n",
    "4) True Negative(TN): 106 Bad Credit(1) was predicted as the Negative\n"
   ]
  },
  {
   "cell_type": "code",
   "execution_count": 823,
   "metadata": {},
   "outputs": [],
   "source": [
    "pred_glb = gboost_clf.predict(train_x)"
   ]
  },
  {
   "cell_type": "markdown",
   "metadata": {},
   "source": [
    "### 5.5.1) Classification report"
   ]
  },
  {
   "cell_type": "markdown",
   "metadata": {},
   "source": [
    "##### 5.5.1.1) Testing report"
   ]
  },
  {
   "cell_type": "code",
   "execution_count": 824,
   "metadata": {},
   "outputs": [
    {
     "name": "stdout",
     "output_type": "stream",
     "text": [
      "              precision    recall  f1-score   support\n",
      "\n",
      "           0       0.83      0.83      0.83       149\n",
      "           1       0.80      0.81      0.81       131\n",
      "\n",
      "    accuracy                           0.82       280\n",
      "   macro avg       0.82      0.82      0.82       280\n",
      "weighted avg       0.82      0.82      0.82       280\n",
      "\n"
     ]
    }
   ],
   "source": [
    "print( metrics.classification_report( test_y, pred_y_gb ) ) "
   ]
  },
  {
   "cell_type": "markdown",
   "metadata": {},
   "source": [
    "##### 5.5.1.2) Training report "
   ]
  },
  {
   "cell_type": "code",
   "execution_count": 825,
   "metadata": {},
   "outputs": [
    {
     "name": "stdout",
     "output_type": "stream",
     "text": [
      "              precision    recall  f1-score   support\n",
      "\n",
      "           0       1.00      1.00      1.00       551\n",
      "           1       1.00      1.00      1.00       569\n",
      "\n",
      "    accuracy                           1.00      1120\n",
      "   macro avg       1.00      1.00      1.00      1120\n",
      "weighted avg       1.00      1.00      1.00      1120\n",
      "\n"
     ]
    }
   ],
   "source": [
    "print( metrics.classification_report( train_y, pred_glb ) ) "
   ]
  },
  {
   "cell_type": "markdown",
   "metadata": {},
   "source": [
    "## 5.5.2) Finding Important features"
   ]
  },
  {
   "cell_type": "code",
   "execution_count": 826,
   "metadata": {},
   "outputs": [
    {
     "data": {
      "image/png": "[encoded data removed]",
      "text/plain": [
       "<Figure size 576x432 with 1 Axes>"
      ]
     },
     "metadata": {},
     "output_type": "display_data"
    }
   ],
   "source": [
    "# Create a dataframe to store the featues and their corresponding importances\n",
    "feature_rank = pd.DataFrame( {'feature': X.columns, 'importance': gboost_clf.feature_importances_ } )\n",
    "## Sorting the features based on their importances with most important feature at top.\n",
    "feature_rank = feature_rank.sort_values('importance', ascending = False)\n",
    "plt.figure(figsize=(8, 6))\n",
    "# plot the values\n",
    "sns.barplot( y = 'feature', x = 'importance', data = feature_rank );"
   ]
  },
  {
   "cell_type": "markdown",
   "metadata": {},
   "source": [
    "# 6) Result"
   ]
  },
  {
   "cell_type": "markdown",
   "metadata": {},
   "source": [
    "The Machine learning algorithms that were used to build the models were:\n",
    "    \n",
    "1) Logistic Regression\n",
    "\n",
    "2) Random Forest Classifier\n",
    "\n",
    "3) Gradient Boosting\n",
    "\n",
    "4) K-Nearest Neighbors (KNN)\n",
    "\n",
    "\n",
    "The best-fit model among the ones created based on performance metrics was “Gradient Boosting”\n",
    "\n",
    "\n",
    "Data-Set        Accuracy         Precision       f1-Score           Recall\n",
    "    \n",
    "    0         82       83          83      83\n",
    "    1                  80          81      81\n",
    "    \n",
    "\n",
    "The top 5 features for Random Forest and Gradient Boosting are \n",
    "\n",
    "Checking_Balance, Amount, Age, Months_loan_duration, and Saving_balance.\n",
    "\n",
    "he importance score is normalized and shows the relative importance of features.\n",
    "\n",
    "\n",
    "\n",
    "## Conclusion \n",
    "\n",
    "According to me the best algorithm for this dataset is the Gradient Boosting machine learning algorithm.\n",
    "\n",
    "Gradient Boosting has consistently demonstrated to be one of the most impressive algorithms to developed the predictive model. \n",
    "\n",
    "The one main reason the Gradient boosting algorithm is very good because it can easily overfit on a training data set. \n",
    "\n",
    "Different hyperparameters can be used to counter the overfitting. The Calculated Accuracy for this data set is 82% which\n",
    "\n",
    "is better than Random Forest with 80%, KNN with 74%, and Logistic Regression with 74%.\n",
    "\n"
   ]
  }
 ],
 "metadata": {
  "kernelspec": {
   "display_name": "Python 3",
   "language": "python",
   "name": "python3"
  },
  "language_info": {
   "codemirror_mode": {
    "name": "ipython",
    "version": 3
   },
   "file_extension": ".py",
   "mimetype": "text/x-python",
   "name": "python",
   "nbconvert_exporter": "python",
   "pygments_lexer": "ipython3",
   "version": "3.8.5"
  }
 },
 "nbformat": 4,
 "nbformat_minor": 2
}
